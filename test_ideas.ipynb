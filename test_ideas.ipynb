{
 "cells": [
  {
   "cell_type": "code",
   "execution_count": null,
   "metadata": {},
   "outputs": [],
   "source": [
    "from langchain_community.document_loaders import (\n",
    "    TextLoader, UnstructuredPDFLoader, UnstructuredHTMLLoader,\n",
    "    Docx2txtLoader\n",
    ")\n",
    "\n",
    "def convert_to_text(file_path):\n",
    "    \"\"\"The function converts a document file to text\"\"\"\n",
    "    file_type = file_path.split('.')[-1]\n",
    "\n",
    "    if \"pdf\" == file_type:\n",
    "        loader = UnstructuredPDFLoader(file_path)\n",
    "        document = loader.load()\n",
    "    elif \"txt\" == file_type:\n",
    "        loader = TextLoader(file_path)\n",
    "        document = loader.load()\n",
    "    elif \"html\" == file_type:\n",
    "        loader = UnstructuredHTMLLoader(file_path)\n",
    "        document = loader.load()\n",
    "    elif \"doc\" == file_type or \"docx\" == file_type:\n",
    "        loader = Docx2txtLoader(file_path)\n",
    "        document = loader.load()\n",
    "    else:\n",
    "        return []\n",
    "    return document\n"
   ]
  },
  {
   "cell_type": "code",
   "execution_count": null,
   "metadata": {},
   "outputs": [],
   "source": [
    "docs = convert_to_text(\"2023_КП-МСШI_Малайдах 20230629 2.docx\")\n",
    "print(docs)"
   ]
  },
  {
   "cell_type": "code",
   "execution_count": null,
   "metadata": {},
   "outputs": [],
   "source": [
    "from langchain_text_splitters import CharacterTextSplitter\n",
    "\n",
    "splitter = CharacterTextSplitter(\n",
    "    separator=\"\\n\\n\",\n",
    "    chunk_size=1000,\n",
    "    chunk_overlap=200\n",
    ")\n",
    "split_docs = splitter.split_documents(docs)\n",
    "print(split_docs)"
   ]
  },
  {
   "cell_type": "code",
   "execution_count": null,
   "metadata": {},
   "outputs": [],
   "source": [
    "from langchain_openai.embeddings import OpenAIEmbeddings\n",
    "\n",
    "embeddings = OpenAIEmbeddings(\n",
    "    model=\"text-embedding-3-large\"  # або інша доступна модель\n",
    ")\n"
   ]
  },
  {
   "cell_type": "code",
   "execution_count": null,
   "metadata": {},
   "outputs": [],
   "source": [
    "from langchain_community.vectorstores import FAISS\n",
    "\n",
    "# Індексування усіх шматків у FAISS\n",
    "vectorstore = FAISS.from_texts(\n",
    "    [doc.page_content for doc in split_docs],\n",
    "    embeddings\n",
    ")\n",
    "# Перетворимо на retriever для подальшого пошуку\n",
    "retriever = vectorstore.as_retriever(search_kwargs={\"k\": 5})\n"
   ]
  },
  {
   "cell_type": "code",
   "execution_count": null,
   "metadata": {},
   "outputs": [],
   "source": [
    "from langchain.chains.summarize import load_summarize_chain\n",
    "from langchain.llms import OpenAI\n",
    "\n",
    "# Ініціалізація LLM для сумаризації\n",
    "llm = OpenAI(temperature=0)\n",
    "\n",
    "# Створюємо chain типу map_reduce\n",
    "chain = load_summarize_chain(\n",
    "    llm,\n",
    "    chain_type=\"map_reduce\",\n",
    "    question_prompt=None,      # не потрібен запит\n",
    "    map_prompt=None,           # використовуються дефолтні шаблони\n",
    "    reduce_prompt=None,        # дефолтний зведений шаблон\n",
    "    token_max=1500             # макс. токенів у фінальному зведенні\n",
    ")\n"
   ]
  },
  {
   "cell_type": "code",
   "execution_count": null,
   "metadata": {},
   "outputs": [],
   "source": [
    "# Отримуємо релевантні документи (тут просто всі кращі k=5)\n",
    "docs_to_summarize = retriever.get_relevant_documents(\"\")\n",
    "\n",
    "# Запускаємо ланцюг сумаризації\n",
    "final_summary = chain.run(docs_to_summarize)\n",
    "\n",
    "print(\"🏷 Підсумок документа:\")\n",
    "print(final_summary)\n"
   ]
  }
 ],
 "metadata": {
  "kernelspec": {
   "display_name": "base",
   "language": "python",
   "name": "python3"
  },
  "language_info": {
   "codemirror_mode": {
    "name": "ipython",
    "version": 3
   },
   "file_extension": ".py",
   "mimetype": "text/x-python",
   "name": "python",
   "nbconvert_exporter": "python",
   "pygments_lexer": "ipython3",
   "version": "3.11.7"
  }
 },
 "nbformat": 4,
 "nbformat_minor": 2
}
